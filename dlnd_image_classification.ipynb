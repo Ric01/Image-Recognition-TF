{
 "cells": [
  {
   "cell_type": "markdown",
   "metadata": {
    "collapsed": true
   },
   "source": [
    "# Image Classification\n",
    "In this project, you'll classify images from the [CIFAR-10 dataset](https://www.cs.toronto.edu/~kriz/cifar.html).  The dataset consists of airplanes, dogs, cats, and other objects. You'll preprocess the images, then train a convolutional neural network on all the samples. The images need to be normalized and the labels need to be one-hot encoded.  You'll get to apply what you learned and build a convolutional, max pooling, dropout, and fully connected layers.  At the end, you'll get to see your neural network's predictions on the sample images.\n",
    "## Get the Data\n",
    "Run the following cell to download the [CIFAR-10 dataset for python](https://www.cs.toronto.edu/~kriz/cifar-10-python.tar.gz)."
   ]
  },
  {
   "cell_type": "code",
   "execution_count": 1,
   "metadata": {},
   "outputs": [
    {
     "name": "stdout",
     "output_type": "stream",
     "text": [
      "All files found!\n"
     ]
    }
   ],
   "source": [
    "\"\"\"\n",
    "DON'T MODIFY ANYTHING IN THIS CELL THAT IS BELOW THIS LINE\n",
    "\"\"\"\n",
    "from urllib.request import urlretrieve\n",
    "from os.path import isfile, isdir\n",
    "from tqdm import tqdm\n",
    "import problem_unittests as tests\n",
    "import tarfile\n",
    "\n",
    "cifar10_dataset_folder_path = 'cifar-10-batches-py'\n",
    "\n",
    "# Use Floyd's cifar-10 dataset if present\n",
    "floyd_cifar10_location = '/input/cifar-10/python.tar.gz'\n",
    "if isfile(floyd_cifar10_location):\n",
    "    tar_gz_path = floyd_cifar10_location\n",
    "else:\n",
    "    tar_gz_path = 'cifar-10-python.tar.gz'\n",
    "\n",
    "class DLProgress(tqdm):\n",
    "    last_block = 0\n",
    "\n",
    "    def hook(self, block_num=1, block_size=1, total_size=None):\n",
    "        self.total = total_size\n",
    "        self.update((block_num - self.last_block) * block_size)\n",
    "        self.last_block = block_num\n",
    "\n",
    "if not isfile(tar_gz_path):\n",
    "    with DLProgress(unit='B', unit_scale=True, miniters=1, desc='CIFAR-10 Dataset') as pbar:\n",
    "        urlretrieve(\n",
    "            'https://www.cs.toronto.edu/~kriz/cifar-10-python.tar.gz',\n",
    "            tar_gz_path,\n",
    "            pbar.hook)\n",
    "\n",
    "if not isdir(cifar10_dataset_folder_path):\n",
    "    with tarfile.open(tar_gz_path) as tar:\n",
    "        tar.extractall()\n",
    "        tar.close()\n",
    "\n",
    "\n",
    "tests.test_folder_path(cifar10_dataset_folder_path)"
   ]
  },
  {
   "cell_type": "markdown",
   "metadata": {},
   "source": [
    "## Explore the Data\n",
    "The dataset is broken into batches to prevent your machine from running out of memory.  The CIFAR-10 dataset consists of 5 batches, named `data_batch_1`, `data_batch_2`, etc.. Each batch contains the labels and images that are one of the following:\n",
    "* airplane\n",
    "* automobile\n",
    "* bird\n",
    "* cat\n",
    "* deer\n",
    "* dog\n",
    "* frog\n",
    "* horse\n",
    "* ship\n",
    "* truck\n",
    "\n",
    "Understanding a dataset is part of making predictions on the data.  Play around with the code cell below by changing the `batch_id` and `sample_id`. The `batch_id` is the id for a batch (1-5). The `sample_id` is the id for a image and label pair in the batch.\n",
    "\n",
    "Ask yourself \"What are all possible labels?\", \"What is the range of values for the image data?\", \"Are the labels in order or random?\".  Answers to questions like these will help you preprocess the data and end up with better predictions."
   ]
  },
  {
   "cell_type": "code",
   "execution_count": 2,
   "metadata": {},
   "outputs": [
    {
     "name": "stdout",
     "output_type": "stream",
     "text": [
      "\n",
      "Stats of batch 2:\n",
      "Samples: 10000\n",
      "Label Counts: {0: 984, 1: 1007, 2: 1010, 3: 995, 4: 1010, 5: 988, 6: 1008, 7: 1026, 8: 987, 9: 985}\n",
      "First 20 Labels: [1, 6, 6, 8, 8, 3, 4, 6, 0, 6, 0, 3, 6, 6, 5, 4, 8, 3, 2, 6]\n",
      "\n",
      "Example of Image 3:\n",
      "Image - Min Value: 4 Max Value: 255\n",
      "Image - Shape: (32, 32, 3)\n",
      "Label - Label Id: 8 Name: ship\n"
     ]
    },
    {
     "data": {
      "image/png": "[encoded data removed]",
      "text/plain": [
       "<matplotlib.figure.Figure at 0x7f5e7e532358>"
      ]
     },
     "metadata": {
      "image/png": {
       "height": 250,
       "width": 253
      }
     },
     "output_type": "display_data"
    }
   ],
   "source": [
    "%matplotlib inline\n",
    "%config InlineBackend.figure_format = 'retina'\n",
    "\n",
    "import helper\n",
    "import numpy as np\n",
    "\n",
    "# Explore the dataset\n",
    "batch_id = 2\n",
    "sample_id = 3\n",
    "helper.display_stats(cifar10_dataset_folder_path, batch_id, sample_id)"
   ]
  },
  {
   "cell_type": "markdown",
   "metadata": {},
   "source": [
    "## Implement Preprocess Functions\n",
    "### Normalize\n",
    "In the cell below, implement the `normalize` function to take in image data, `x`, and return it as a normalized Numpy array. The values should be in the range of 0 to 1, inclusive.  The return object should be the same shape as `x`."
   ]
  },
  {
   "cell_type": "code",
   "execution_count": 3,
   "metadata": {},
   "outputs": [
    {
     "name": "stdout",
     "output_type": "stream",
     "text": [
      "Tests Passed\n"
     ]
    }
   ],
   "source": [
    "def normalize(x):\n",
    "    \"\"\"\n",
    "    Normalize a list of sample image data in the range of 0 to 1\n",
    "    : x: List of image data.  The image shape is (32, 32, 3)\n",
    "    : return: Numpy array of normalize data\n",
    "    \"\"\"\n",
    "    # TODO: Implement Function\n",
    "    a = 0\n",
    "    b = 1\n",
    "    \n",
    "    return a + ((x-np.amin(x))*(b-a)/(np.amax(x)-np.amin(x)))\n",
    "\n",
    "\n",
    "\"\"\"\n",
    "DON'T MODIFY ANYTHING IN THIS CELL THAT IS BELOW THIS LINE\n",
    "\"\"\"\n",
    "tests.test_normalize(normalize)"
   ]
  },
  {
   "cell_type": "markdown",
   "metadata": {},
   "source": [
    "### One-hot encode\n",
    "Just like the previous code cell, you'll be implementing a function for preprocessing.  This time, you'll implement the `one_hot_encode` function. The input, `x`, are a list of labels.  Implement the function to return the list of labels as One-Hot encoded Numpy array.  The possible values for labels are 0 to 9. The one-hot encoding function should return the same encoding for each value between each call to `one_hot_encode`.  Make sure to save the map of encodings outside the function.\n",
    "\n",
    "Hint: Don't reinvent the wheel."
   ]
  },
  {
   "cell_type": "code",
   "execution_count": 4,
   "metadata": {},
   "outputs": [
    {
     "name": "stdout",
     "output_type": "stream",
     "text": [
      "Tests Passed\n"
     ]
    }
   ],
   "source": [
    "from sklearn.preprocessing import LabelBinarizer\n",
    "\n",
    "encoder = LabelBinarizer()\n",
    "encoder.fit([0,1,2,3,4,5,6,7,8,9])\n",
    "\n",
    "\n",
    "def one_hot_encode(x):\n",
    "    \"\"\"\n",
    "    One hot encode a list of sample labels. Return a one-hot encoded vector for each label.\n",
    "    : x: List of sample Labels\n",
    "    : return: Numpy array of one-hot encoded labels\n",
    "    \"\"\"\n",
    "    # Turn labels into numbers and apply One-Hot Encoding\n",
    "    \n",
    "    y = encoder.transform(x)\n",
    "    # Change to float32, so it can be multiplied against the features in TensorFlow, which are float32\n",
    "    y = y.astype(np.float32)\n",
    "    \n",
    "    return y\n",
    "\n",
    "\n",
    "\"\"\"\n",
    "DON'T MODIFY ANYTHING IN THIS CELL THAT IS BELOW THIS LINE\n",
    "\"\"\"\n",
    "tests.test_one_hot_encode(one_hot_encode)"
   ]
  },
  {
   "cell_type": "markdown",
   "metadata": {},
   "source": [
    "### Randomize Data\n",
    "As you saw from exploring the data above, the order of the samples are randomized.  It doesn't hurt to randomize it again, but you don't need to for this dataset."
   ]
  },
  {
   "cell_type": "markdown",
   "metadata": {},
   "source": [
    "## Preprocess all the data and save it\n",
    "Running the code cell below will preprocess all the CIFAR-10 data and save it to file. The code below also uses 10% of the training data for validation."
   ]
  },
  {
   "cell_type": "code",
   "execution_count": 5,
   "metadata": {
    "collapsed": true
   },
   "outputs": [],
   "source": [
    "\"\"\"\n",
    "DON'T MODIFY ANYTHING IN THIS CELL\n",
    "\"\"\"\n",
    "# Preprocess Training, Validation, and Testing Data\n",
    "helper.preprocess_and_save_data(cifar10_dataset_folder_path, normalize, one_hot_encode)"
   ]
  },
  {
   "cell_type": "markdown",
   "metadata": {},
   "source": [
    "# Check Point\n",
    "This is your first checkpoint.  If you ever decide to come back to this notebook or have to restart the notebook, you can start from here.  The preprocessed data has been saved to disk."
   ]
  },
  {
   "cell_type": "code",
   "execution_count": 6,
   "metadata": {
    "collapsed": true
   },
   "outputs": [],
   "source": [
    "\"\"\"\n",
    "DON'T MODIFY ANYTHING IN THIS CELL\n",
    "\"\"\"\n",
    "import pickle\n",
    "import problem_unittests as tests\n",
    "import helper\n",
    "\n",
    "# Load the Preprocessed Validation data\n",
    "valid_features, valid_labels = pickle.load(open('preprocess_validation.p', mode='rb'))"
   ]
  },
  {
   "cell_type": "markdown",
   "metadata": {},
   "source": [
    "## Build the network\n",
    "For the neural network, you'll build each layer into a function.  Most of the code you've seen has been outside of functions. To test your code more thoroughly, we require that you put each layer in a function.  This allows us to give you better feedback and test for simple mistakes using our unittests before you submit your project.\n",
    "\n",
    ">**Note:** If you're finding it hard to dedicate enough time for this course each week, we've provided a small shortcut to this part of the project. In the next couple of problems, you'll have the option to use classes from the [TensorFlow Layers](https://www.tensorflow.org/api_docs/python/tf/layers) or [TensorFlow Layers (contrib)](https://www.tensorflow.org/api_guides/python/contrib.layers) packages to build each layer, except the layers you build in the \"Convolutional and Max Pooling Layer\" section.  TF Layers is similar to Keras's and TFLearn's abstraction to layers, so it's easy to pickup.\n",
    "\n",
    ">However, if you would like to get the most out of this course, try to solve all the problems _without_ using anything from the TF Layers packages. You **can** still use classes from other packages that happen to have the same name as ones you find in TF Layers! For example, instead of using the TF Layers version of the `conv2d` class, [tf.layers.conv2d](https://www.tensorflow.org/api_docs/python/tf/layers/conv2d), you would want to use the TF Neural Network version of `conv2d`, [tf.nn.conv2d](https://www.tensorflow.org/api_docs/python/tf/nn/conv2d). \n",
    "\n",
    "Let's begin!\n",
    "\n",
    "### Input\n",
    "The neural network needs to read the image data, one-hot encoded labels, and dropout keep probability. Implement the following functions\n",
    "* Implement `neural_net_image_input`\n",
    " * Return a [TF Placeholder](https://www.tensorflow.org/api_docs/python/tf/placeholder)\n",
    " * Set the shape using `image_shape` with batch size set to `None`.\n",
    " * Name the TensorFlow placeholder \"x\" using the TensorFlow `name` parameter in the [TF Placeholder](https://www.tensorflow.org/api_docs/python/tf/placeholder).\n",
    "* Implement `neural_net_label_input`\n",
    " * Return a [TF Placeholder](https://www.tensorflow.org/api_docs/python/tf/placeholder)\n",
    " * Set the shape using `n_classes` with batch size set to `None`.\n",
    " * Name the TensorFlow placeholder \"y\" using the TensorFlow `name` parameter in the [TF Placeholder](https://www.tensorflow.org/api_docs/python/tf/placeholder).\n",
    "* Implement `neural_net_keep_prob_input`\n",
    " * Return a [TF Placeholder](https://www.tensorflow.org/api_docs/python/tf/placeholder) for dropout keep probability.\n",
    " * Name the TensorFlow placeholder \"keep_prob\" using the TensorFlow `name` parameter in the [TF Placeholder](https://www.tensorflow.org/api_docs/python/tf/placeholder).\n",
    "\n",
    "These names will be used at the end of the project to load your saved model.\n",
    "\n",
    "Note: `None` for shapes in TensorFlow allow for a dynamic size."
   ]
  },
  {
   "cell_type": "code",
   "execution_count": 7,
   "metadata": {},
   "outputs": [
    {
     "name": "stdout",
     "output_type": "stream",
     "text": [
      "Image Input Tests Passed.\n",
      "Label Input Tests Passed.\n",
      "Keep Prob Tests Passed.\n"
     ]
    }
   ],
   "source": [
    "import tensorflow as tf\n",
    "\n",
    "def neural_net_image_input(image_shape):\n",
    "    \"\"\"\n",
    "    Return a Tensor for a batch of image input\n",
    "    : image_shape: Shape of the images\n",
    "    : return: Tensor for image input.\n",
    "    \"\"\"\n",
    "    a,b,c = image_shape\n",
    "    forma = list(image_shape)\n",
    "    forma.insert(0,None)\n",
    "    \n",
    "    #print(a,b,c)\n",
    "    # TODO: Implement Function\n",
    "    return tf.placeholder(tf.float32,shape = forma ,name = 'x')\n",
    "\n",
    "\n",
    "def neural_net_label_input(n_classes):\n",
    "    \"\"\"\n",
    "    Return a Tensor for a batch of label input\n",
    "    : n_classes: Number of classes\n",
    "    : return: Tensor for label input.\n",
    "    \"\"\"\n",
    "    forma = [n_classes]\n",
    "    forma.insert(0,None)\n",
    "    # TODO: Implement Function\n",
    "    return tf.placeholder(tf.float32,shape = forma ,name='y')\n",
    "\n",
    "\n",
    "def neural_net_keep_prob_input():\n",
    "    \"\"\"\n",
    "    Return a Tensor for keep probability\n",
    "    : return: Tensor for keep probability.\n",
    "    \"\"\"\n",
    "    # TODO: Implement Function\n",
    "    return tf.placeholder(tf.float32,shape = None, name='keep_prob')\n",
    "\n",
    "\n",
    "\"\"\"\n",
    "DON'T MODIFY ANYTHING IN THIS CELL THAT IS BELOW THIS LINE\n",
    "\"\"\"\n",
    "tf.reset_default_graph()\n",
    "tests.test_nn_image_inputs(neural_net_image_input)\n",
    "tests.test_nn_label_inputs(neural_net_label_input)\n",
    "tests.test_nn_keep_prob_inputs(neural_net_keep_prob_input)"
   ]
  },
  {
   "cell_type": "markdown",
   "metadata": {},
   "source": [
    "### Convolution and Max Pooling Layer\n",
    "Convolution layers have a lot of success with images. For this code cell, you should implement the function `conv2d_maxpool` to apply convolution then max pooling:\n",
    "* Create the weight and bias using `conv_ksize`, `conv_num_outputs` and the shape of `x_tensor`.\n",
    "* Apply a convolution to `x_tensor` using weight and `conv_strides`.\n",
    " * We recommend you use same padding, but you're welcome to use any padding.\n",
    "* Add bias\n",
    "* Add a nonlinear activation to the convolution.\n",
    "* Apply Max Pooling using `pool_ksize` and `pool_strides`.\n",
    " * We recommend you use same padding, but you're welcome to use any padding.\n",
    "\n",
    "**Note:** You **can't** use [TensorFlow Layers](https://www.tensorflow.org/api_docs/python/tf/layers) or [TensorFlow Layers (contrib)](https://www.tensorflow.org/api_guides/python/contrib.layers) for **this** layer, but you can still use TensorFlow's [Neural Network](https://www.tensorflow.org/api_docs/python/tf/nn) package. You may still use the shortcut option for all the **other** layers."
   ]
  },
  {
   "cell_type": "code",
   "execution_count": 8,
   "metadata": {},
   "outputs": [
    {
     "name": "stdout",
     "output_type": "stream",
     "text": [
      "Tests Passed\n"
     ]
    }
   ],
   "source": [
    "def conv2d_maxpool(x_tensor, conv_num_outputs, conv_ksize, conv_strides, pool_ksize, pool_strides):\n",
    "    \"\"\"\n",
    "    Apply convolution then max pooling to x_tensor\n",
    "    :param x_tensor: TensorFlow Tensor\n",
    "    :param conv_num_outputs: Number of outputs for the convolutional layer\n",
    "    :param conv_ksize: kernel size 2-D Tuple for the convolutional layer\n",
    "    :param conv_strides: Stride 2-D Tuple for convolution\n",
    "    :param pool_ksize: kernal size 2-D Tuple for pool\n",
    "    :param pool_strides: Stride 2-D Tuple for pool\n",
    "    : return: A tensor that represents convolution and max pooling of x_tensor\n",
    "    \"\"\"\n",
    "    # Output depth\n",
    "    k_output = conv_num_outputs\n",
    "\n",
    "    # Image Properties\n",
    "    image_width = 32\n",
    "    image_height = 32\n",
    "    color_channels = 3\n",
    "\n",
    "    # Convolution filter\n",
    "    filter_size_width = conv_ksize[0]\n",
    "    filter_size_height = conv_ksize[1]\n",
    "    \n",
    "    #print(conv_ksize)\n",
    "    #print(\"Conv_strides es: \",conv_strides)\n",
    "    \n",
    "\n",
    "\n",
    "    # Weight and bias\n",
    "    #Tengo que revisitar el comando x_tensor.get_shape().as_list()[3]\n",
    "    \n",
    "    weight = tf.Variable(tf.truncated_normal([filter_size_height, filter_size_width, x_tensor.get_shape().as_list()[3], k_output],stddev=0.01))\n",
    "    bias = tf.Variable(tf.zeros(k_output))\n",
    "\n",
    "    # Apply Convolution using nn librarys\n",
    "    \n",
    "    conv_layer = tf.nn.conv2d(x_tensor, weight, strides=[1, conv_strides[0], conv_strides[1], 1], padding='SAME')\n",
    "    # Add bias\n",
    "    conv_layer = tf.nn.bias_add(conv_layer, bias)\n",
    "    \n",
    "    \n",
    "    #///HERE COMES THE MAX POOLING PIECE\n",
    "    conv_layer = tf.nn.max_pool(\n",
    "    conv_layer,\n",
    "    ksize=[1, pool_ksize[0], pool_ksize[1], 1],\n",
    "    strides=[1,pool_strides[0],pool_strides[1], 1],\n",
    "    padding='SAME')\n",
    "    \n",
    "    # Using Rectified Linear as the non/lin activation function after the max pooling\n",
    "    \n",
    "    conv_layer = tf.nn.relu(conv_layer)\n",
    "    \n",
    "    return conv_layer \n",
    "\n",
    "\n",
    "\"\"\"\n",
    "DON'T MODIFY ANYTHING IN THIS CELL THAT IS BELOW THIS LINE\n",
    "\"\"\"\n",
    "tests.test_con_pool(conv2d_maxpool)"
   ]
  },
  {
   "cell_type": "markdown",
   "metadata": {},
   "source": [
    "### Flatten Layer\n",
    "Implement the `flatten` function to change the dimension of `x_tensor` from a 4-D tensor to a 2-D tensor.  The output should be the shape (*Batch Size*, *Flattened Image Size*). Shortcut option: you can use classes from the [TensorFlow Layers](https://www.tensorflow.org/api_docs/python/tf/layers) or [TensorFlow Layers (contrib)](https://www.tensorflow.org/api_guides/python/contrib.layers) packages for this layer. For more of a challenge, only use other TensorFlow packages."
   ]
  },
  {
   "cell_type": "code",
   "execution_count": 9,
   "metadata": {},
   "outputs": [
    {
     "name": "stdout",
     "output_type": "stream",
     "text": [
      "Tests Passed\n"
     ]
    }
   ],
   "source": [
    "def flatten(x_tensor):\n",
    "    \"\"\"\n",
    "    Flatten x_tensor to (Batch Size, Flattened Image Size)\n",
    "    : x_tensor: A tensor of size (Batch Size, ...), where ... are the image dimensions.\n",
    "    : return: A tensor of size (Batch Size, Flattened Image Size).\n",
    "    \"\"\"\n",
    "    \n",
    "    return tf.contrib.layers.flatten(x_tensor)\n",
    "\n",
    "\n",
    "\"\"\"\n",
    "DON'T MODIFY ANYTHING IN THIS CELL THAT IS BELOW THIS LINE\n",
    "\"\"\"\n",
    "tests.test_flatten(flatten)"
   ]
  },
  {
   "cell_type": "markdown",
   "metadata": {},
   "source": [
    "### Fully-Connected Layer\n",
    "Implement the `fully_conn` function to apply a fully connected layer to `x_tensor` with the shape (*Batch Size*, *num_outputs*). Shortcut option: you can use classes from the [TensorFlow Layers](https://www.tensorflow.org/api_docs/python/tf/layers) or [TensorFlow Layers (contrib)](https://www.tensorflow.org/api_guides/python/contrib.layers) packages for this layer. For more of a challenge, only use other TensorFlow packages."
   ]
  },
  {
   "cell_type": "code",
   "execution_count": 10,
   "metadata": {},
   "outputs": [
    {
     "name": "stdout",
     "output_type": "stream",
     "text": [
      "Tests Passed\n"
     ]
    }
   ],
   "source": [
    "def fully_conn(x_tensor, num_outputs):\n",
    "    \"\"\"\n",
    "    Apply a fully connected layer to x_tensor using weight and bias\n",
    "    : x_tensor: A 2-D tensor where the first dimension is batch size.\n",
    "    : num_outputs: The number of output that the new tensor should be.\n",
    "    : return: A 2-D tensor where the second dimension is num_outputs.\n",
    "    \"\"\"\n",
    "    # TODO: Implement Function\n",
    "    return tf.contrib.layers.fully_connected(x_tensor,num_outputs,activation_fn=tf.nn.relu,normalizer_fn=None,normalizer_params=None)\n",
    "\n",
    "\n",
    "\"\"\"\n",
    "DON'T MODIFY ANYTHING IN THIS CELL THAT IS BELOW THIS LINE\n",
    "\"\"\"\n",
    "tests.test_fully_conn(fully_conn)"
   ]
  },
  {
   "cell_type": "markdown",
   "metadata": {},
   "source": [
    "### Output Layer\n",
    "Implement the `output` function to apply a fully connected layer to `x_tensor` with the shape (*Batch Size*, *num_outputs*). Shortcut option: you can use classes from the [TensorFlow Layers](https://www.tensorflow.org/api_docs/python/tf/layers) or [TensorFlow Layers (contrib)](https://www.tensorflow.org/api_guides/python/contrib.layers) packages for this layer. For more of a challenge, only use other TensorFlow packages.\n",
    "\n",
    "**Note:** Activation, softmax, or cross entropy should **not** be applied to this."
   ]
  },
  {
   "cell_type": "code",
   "execution_count": 11,
   "metadata": {},
   "outputs": [
    {
     "name": "stdout",
     "output_type": "stream",
     "text": [
      "Tests Passed\n"
     ]
    }
   ],
   "source": [
    "def output(x_tensor, num_outputs):\n",
    "    \"\"\"\n",
    "    Apply a output layer to x_tensor using weight and bias\n",
    "    : x_tensor: A 2-D tensor where the first dimension is batch size.\n",
    "    : num_outputs: The number of output that the new tensor should be.\n",
    "    : return: A 2-D tensor where the second dimension is num_outputs.\n",
    "    \"\"\"\n",
    "    # TODO: Implement Function\n",
    "    return tf.contrib.layers.fully_connected(x_tensor,num_outputs,activation_fn=None,normalizer_fn=None,normalizer_params=None)\n",
    "\n",
    "\n",
    "\"\"\"\n",
    "DON'T MODIFY ANYTHING IN THIS CELL THAT IS BELOW THIS LINE\n",
    "\"\"\"\n",
    "tests.test_output(output)"
   ]
  },
  {
   "cell_type": "markdown",
   "metadata": {},
   "source": [
    "### Create Convolutional Model\n",
    "Implement the function `conv_net` to create a convolutional neural network model. The function takes in a batch of images, `x`, and outputs logits.  Use the layers you created above to create this model:\n",
    "\n",
    "* Apply 1, 2, or 3 Convolution and Max Pool layers\n",
    "* Apply a Flatten Layer\n",
    "* Apply 1, 2, or 3 Fully Connected Layers\n",
    "* Apply an Output Layer\n",
    "* Return the output\n",
    "* Apply [TensorFlow's Dropout](https://www.tensorflow.org/api_docs/python/tf/nn/dropout) to one or more layers in the model using `keep_prob`. "
   ]
  },
  {
   "cell_type": "code",
   "execution_count": 38,
   "metadata": {},
   "outputs": [
    {
     "name": "stdout",
     "output_type": "stream",
     "text": [
      "Neural Network Built!\n"
     ]
    }
   ],
   "source": [
    "def conv_net(x, keep_prob):\n",
    "    \"\"\"\n",
    "    Create a convolutional neural network model\n",
    "    : x: Placeholder tensor that holds image data.\n",
    "    : keep_prob: Placeholder tensor that hold dropout keep probability.\n",
    "    : return: Tensor that represents logits\n",
    "    \"\"\"\n",
    "    \n",
    "    # TODO: Apply 1, 2, or 3 Convolution and Max Pool layers\n",
    "    #    Play around with different number of outputs, kernel size and stride\n",
    "    # Function Definition from Above:\n",
    "    #    conv2d_maxpool(x_tensor, conv_num_outputs, conv_ksize, conv_strides, pool_ksize, pool_strides)\n",
    "    \n",
    "    \n",
    "    num_outputs = 10\n",
    "    conv_num_outputs = 64\n",
    "    conv_ksize = [3,3]\n",
    "    conv_strides = [1,1]\n",
    "    pool_ksize = [2,2]\n",
    "    pool_strides = [2,2]\n",
    "    \n",
    "    hidden_layer = conv2d_maxpool(x, conv_num_outputs, conv_ksize, conv_strides, pool_ksize, pool_strides) \n",
    "    conv_num_outputs = 128\n",
    "    conv_ksize = [3,3]\n",
    "    conv_strides = [1,1]\n",
    "    pool_ksize = [2,2]\n",
    "    pool_strides = [2,2]\n",
    "    hidden_layer = conv2d_maxpool(hidden_layer, conv_num_outputs, conv_ksize, conv_strides, pool_ksize, pool_strides)\n",
    "    \n",
    "    conv_num_outputs = 256\n",
    "    conv_ksize = [3,3]\n",
    "    conv_strides = [1,1]\n",
    "    pool_ksize = [2,2]\n",
    "    pool_strides = [2,2]\n",
    "    hidden_layer = conv2d_maxpool(hidden_layer, conv_num_outputs, conv_ksize, conv_strides, pool_ksize, pool_strides)\n",
    "    # TODO: Apply a Flatten Layer\n",
    "    # Function Definition from Above:\n",
    "    hidden_layer = flatten(hidden_layer)\n",
    "    \n",
    "\n",
    "    # TODO: Apply 1, 2, or 3 Fully Connected Layers\n",
    "    #    Play around with different number of outputs\n",
    "    # Function Definition from Above:\n",
    "    out_hidden = 128\n",
    "    tf.nn.dropout(hidden_layer,keep_prob)\n",
    "    hidden_layer = fully_conn(hidden_layer, out_hidden)\n",
    "    \n",
    "    out_hidden = 128\n",
    "    hidden_layer = fully_conn(hidden_layer, out_hidden)\n",
    "    #tf.nn.dropout(hidden_layer,keep_prob)\n",
    "    out_hidden = 128\n",
    "    hidden_layer = fully_conn(hidden_layer, out_hidden)\n",
    "    \n",
    "    # TODO: Apply an Output Layer\n",
    "    #    Set this to the number of classes\n",
    "    # Function Definition from Above:\n",
    "    tf.nn.dropout(hidden_layer,keep_prob)\n",
    "    out = output(hidden_layer, num_outputs)\n",
    "    \n",
    "    \n",
    "    # TODO: return output\n",
    "    return out\n",
    "\n",
    "\n",
    "\"\"\"\n",
    "DON'T MODIFY ANYTHING IN THIS CELL THAT IS BELOW THIS LINE\n",
    "\"\"\"\n",
    "\n",
    "##############################\n",
    "## Build the Neural Network ##\n",
    "##############################\n",
    "\n",
    "# Remove previous weights, bias, inputs, etc..\n",
    "tf.reset_default_graph()\n",
    "\n",
    "# Inputs\n",
    "x = neural_net_image_input((32, 32, 3))\n",
    "y = neural_net_label_input(10)\n",
    "keep_prob = neural_net_keep_prob_input()\n",
    "\n",
    "# Model\n",
    "logits = conv_net(x, keep_prob)\n",
    "\n",
    "# Name logits Tensor, so that is can be loaded from disk after training\n",
    "logits = tf.identity(logits, name='logits')\n",
    "\n",
    "# Loss and Optimizer\n",
    "cost = tf.reduce_mean(tf.nn.softmax_cross_entropy_with_logits(logits=logits, labels=y))\n",
    "optimizer = tf.train.AdamOptimizer().minimize(cost)\n",
    "\n",
    "# Accuracy\n",
    "correct_pred = tf.equal(tf.argmax(logits, 1), tf.argmax(y, 1))\n",
    "accuracy = tf.reduce_mean(tf.cast(correct_pred, tf.float32), name='accuracy')\n",
    "\n",
    "tests.test_conv_net(conv_net)"
   ]
  },
  {
   "cell_type": "markdown",
   "metadata": {},
   "source": [
    "## Train the Neural Network\n",
    "### Single Optimization\n",
    "Implement the function `train_neural_network` to do a single optimization.  The optimization should use `optimizer` to optimize in `session` with a `feed_dict` of the following:\n",
    "* `x` for image input\n",
    "* `y` for labels\n",
    "* `keep_prob` for keep probability for dropout\n",
    "\n",
    "This function will be called for each batch, so `tf.global_variables_initializer()` has already been called.\n",
    "\n",
    "Note: Nothing needs to be returned. This function is only optimizing the neural network."
   ]
  },
  {
   "cell_type": "code",
   "execution_count": 39,
   "metadata": {},
   "outputs": [
    {
     "name": "stdout",
     "output_type": "stream",
     "text": [
      "Tests Passed\n"
     ]
    }
   ],
   "source": [
    "def train_neural_network(session, optimizer, keep_probability, feature_batch, label_batch):\n",
    "    \"\"\"\n",
    "    Optimize the session on a batch of images and labels\n",
    "    : session: Current TensorFlow session\n",
    "    : optimizer: TensorFlow optimizer function\n",
    "    : keep_probability: keep probability\n",
    "    : feature_batch: Batch of Numpy image data\n",
    "    : label_batch: Batch of Numpy label data\n",
    "    \"\"\"\n",
    " \n",
    "   \n",
    "    # Run optimizer and get loss\n",
    "    # Loss and Optimizer\n",
    "    \n",
    "    \n",
    "    session.run(optimizer,feed_dict={x: feature_batch, y: label_batch, keep_prob: keep_probability})\n",
    "\n",
    "    \n",
    "    \n",
    "\"\"\"\n",
    "DON'T MODIFY ANYTHING IN THIS CELL THAT IS BELOW THIS LINE\n",
    "\"\"\"\n",
    "tests.test_train_nn(train_neural_network)"
   ]
  },
  {
   "cell_type": "markdown",
   "metadata": {},
   "source": [
    "### Show Stats\n",
    "Implement the function `print_stats` to print loss and validation accuracy.  Use the global variables `valid_features` and `valid_labels` to calculate validation accuracy.  Use a keep probability of `1.0` to calculate the loss and validation accuracy."
   ]
  },
  {
   "cell_type": "code",
   "execution_count": 40,
   "metadata": {
    "collapsed": true
   },
   "outputs": [],
   "source": [
    "def print_stats(session, feature_batch, label_batch, cost, accuracy):\n",
    "    \"\"\"\n",
    "    Print information about loss and validation accuracy\n",
    "    : session: Current TensorFlow session\n",
    "    : feature_batch: Batch of Numpy image data\n",
    "    : label_batch: Batch of Numpy label data\n",
    "    : cost: TensorFlow cost function\n",
    "    : accuracy: TensorFlow accuracy function\n",
    "    \n",
    "    \"\"\"\n",
    "    \n",
    "    Cost, Acc = session.run([cost,accuracy],feed_dict={x:valid_features,y:valid_labels,keep_prob:keep_probability}) \n",
    "    \n",
    "    #print(\"feature_batch\",feature_batch,\"label_batch\",label_batch)\n",
    "    print(\"Cost is\",Cost,\"... accuracy:\",Acc)\n",
    "    \n",
    "    "
   ]
  },
  {
   "cell_type": "markdown",
   "metadata": {},
   "source": [
    "### Hyperparameters\n",
    "Tune the following parameters:\n",
    "* Set `epochs` to the number of iterations until the network stops learning or start overfitting\n",
    "* Set `batch_size` to the highest number that your machine has memory for.  Most people set them to common sizes of memory:\n",
    " * 64\n",
    " * 128\n",
    " * 256\n",
    " * ...\n",
    "* Set `keep_probability` to the probability of keeping a node using dropout"
   ]
  },
  {
   "cell_type": "code",
   "execution_count": 41,
   "metadata": {
    "collapsed": true
   },
   "outputs": [],
   "source": [
    "# TODO: Tune Parameters\n",
    "epochs = 50\n",
    "batch_size = 512\n",
    "keep_probability = 0.5"
   ]
  },
  {
   "cell_type": "markdown",
   "metadata": {},
   "source": [
    "### Train on a Single CIFAR-10 Batch\n",
    "Instead of training the neural network on all the CIFAR-10 batches of data, let's use a single batch. This should save time while you iterate on the model to get a better accuracy.  Once the final validation accuracy is 50% or greater, run the model on all the data in the next section."
   ]
  },
  {
   "cell_type": "code",
   "execution_count": 44,
   "metadata": {},
   "outputs": [
    {
     "name": "stdout",
     "output_type": "stream",
     "text": [
      "Checking the Training on a Single Batch...\n",
      "Epoch  1, CIFAR-10 Batch 1:  Cost is 2.16904 ... accuracy: 0.2244\n",
      "Epoch  2, CIFAR-10 Batch 1:  Cost is 2.00968 ... accuracy: 0.2606\n",
      "Epoch  3, CIFAR-10 Batch 1:  Cost is 1.96254 ... accuracy: 0.286\n",
      "Epoch  4, CIFAR-10 Batch 1:  Cost is 1.89688 ... accuracy: 0.3036\n",
      "Epoch  5, CIFAR-10 Batch 1:  Cost is 1.8293 ... accuracy: 0.3264\n",
      "Epoch  6, CIFAR-10 Batch 1:  Cost is 1.77312 ... accuracy: 0.3496\n",
      "Epoch  7, CIFAR-10 Batch 1:  Cost is 1.63354 ... accuracy: 0.3948\n",
      "Epoch  8, CIFAR-10 Batch 1:  Cost is 1.57898 ... accuracy: 0.4218\n",
      "Epoch  9, CIFAR-10 Batch 1:  Cost is 1.53361 ... accuracy: 0.4398\n",
      "Epoch 10, CIFAR-10 Batch 1:  Cost is 1.52575 ... accuracy: 0.4438\n",
      "Epoch 11, CIFAR-10 Batch 1:  Cost is 1.50081 ... accuracy: 0.4486\n",
      "Epoch 12, CIFAR-10 Batch 1:  Cost is 1.59461 ... accuracy: 0.4338\n",
      "Epoch 13, CIFAR-10 Batch 1:  Cost is 1.50424 ... accuracy: 0.466\n",
      "Epoch 14, CIFAR-10 Batch 1:  Cost is 1.5141 ... accuracy: 0.4644\n",
      "Epoch 15, CIFAR-10 Batch 1:  Cost is 1.43931 ... accuracy: 0.4784\n",
      "Epoch 16, CIFAR-10 Batch 1:  Cost is 1.38664 ... accuracy: 0.498\n",
      "Epoch 17, CIFAR-10 Batch 1:  Cost is 1.43647 ... accuracy: 0.4812\n",
      "Epoch 18, CIFAR-10 Batch 1:  Cost is 1.40422 ... accuracy: 0.4882\n",
      "Epoch 19, CIFAR-10 Batch 1:  Cost is 1.36048 ... accuracy: 0.5022\n",
      "Epoch 20, CIFAR-10 Batch 1:  Cost is 1.36209 ... accuracy: 0.5066\n",
      "Epoch 21, CIFAR-10 Batch 1:  Cost is 1.36885 ... accuracy: 0.5054\n",
      "Epoch 22, CIFAR-10 Batch 1:  Cost is 1.37236 ... accuracy: 0.5086\n",
      "Epoch 23, CIFAR-10 Batch 1:  Cost is 1.37431 ... accuracy: 0.5092\n",
      "Epoch 24, CIFAR-10 Batch 1:  Cost is 1.39786 ... accuracy: 0.5052\n",
      "Epoch 25, CIFAR-10 Batch 1:  Cost is 1.36747 ... accuracy: 0.5124\n",
      "Epoch 26, CIFAR-10 Batch 1:  Cost is 1.31588 ... accuracy: 0.5328\n",
      "Epoch 27, CIFAR-10 Batch 1:  Cost is 1.33639 ... accuracy: 0.5284\n",
      "Epoch 28, CIFAR-10 Batch 1:  Cost is 1.28607 ... accuracy: 0.5496\n",
      "Epoch 29, CIFAR-10 Batch 1:  Cost is 1.2981 ... accuracy: 0.554\n",
      "Epoch 30, CIFAR-10 Batch 1:  Cost is 1.29447 ... accuracy: 0.559\n",
      "Epoch 31, CIFAR-10 Batch 1:  Cost is 1.29944 ... accuracy: 0.5586\n",
      "Epoch 32, CIFAR-10 Batch 1:  Cost is 1.36292 ... accuracy: 0.5456\n",
      "Epoch 33, CIFAR-10 Batch 1:  Cost is 1.39517 ... accuracy: 0.5308\n",
      "Epoch 34, CIFAR-10 Batch 1:  Cost is 1.36101 ... accuracy: 0.5464\n",
      "Epoch 35, CIFAR-10 Batch 1:  Cost is 1.44078 ... accuracy: 0.5238\n",
      "Epoch 36, CIFAR-10 Batch 1:  Cost is 1.37939 ... accuracy: 0.5496\n",
      "Epoch 37, CIFAR-10 Batch 1:  Cost is 1.36824 ... accuracy: 0.5584\n",
      "Epoch 38, CIFAR-10 Batch 1:  Cost is 1.40621 ... accuracy: 0.55\n",
      "Epoch 39, CIFAR-10 Batch 1:  Cost is 1.53093 ... accuracy: 0.5308\n",
      "Epoch 40, CIFAR-10 Batch 1:  Cost is 1.46777 ... accuracy: 0.548\n",
      "Epoch 41, CIFAR-10 Batch 1:  Cost is 1.46046 ... accuracy: 0.5462\n",
      "Epoch 42, CIFAR-10 Batch 1:  Cost is 1.45841 ... accuracy: 0.5462\n",
      "Epoch 43, CIFAR-10 Batch 1:  Cost is 1.40209 ... accuracy: 0.5596\n",
      "Epoch 44, CIFAR-10 Batch 1:  Cost is 1.41314 ... accuracy: 0.5712\n",
      "Epoch 45, CIFAR-10 Batch 1:  Cost is 1.44958 ... accuracy: 0.5636\n",
      "Epoch 46, CIFAR-10 Batch 1:  Cost is 1.49396 ... accuracy: 0.5456\n",
      "Epoch 47, CIFAR-10 Batch 1:  Cost is 1.48903 ... accuracy: 0.5552\n",
      "Epoch 48, CIFAR-10 Batch 1:  Cost is 1.63233 ... accuracy: 0.5386\n",
      "Epoch 49, CIFAR-10 Batch 1:  Cost is 1.54353 ... accuracy: 0.545\n",
      "Epoch 50, CIFAR-10 Batch 1:  Cost is 1.6319 ... accuracy: 0.5416\n"
     ]
    }
   ],
   "source": [
    "\"\"\"\n",
    "DON'T MODIFY ANYTHING IN THIS CELL\n",
    "\"\"\"\n",
    "print('Checking the Training on a Single Batch...')\n",
    "with tf.Session() as sess:\n",
    "    # Initializing the variables\n",
    "    sess.run(tf.global_variables_initializer())\n",
    "    \n",
    "    # Training cycle\n",
    "    for epoch in range(epochs):\n",
    "        batch_i = 1\n",
    "        for batch_features, batch_labels in helper.load_preprocess_training_batch(batch_i, batch_size):\n",
    "            train_neural_network(sess, optimizer, keep_probability, batch_features, batch_labels)\n",
    "        print('Epoch {:>2}, CIFAR-10 Batch {}:  '.format(epoch + 1, batch_i), end='')\n",
    "        print_stats(sess, batch_features, batch_labels, cost, accuracy)"
   ]
  },
  {
   "cell_type": "markdown",
   "metadata": {},
   "source": [
    "### Fully Train the Model\n",
    "Now that you got a good accuracy with a single CIFAR-10 batch, try it with all five batches."
   ]
  },
  {
   "cell_type": "code",
   "execution_count": 45,
   "metadata": {},
   "outputs": [
    {
     "name": "stdout",
     "output_type": "stream",
     "text": [
      "Training...\n",
      "Epoch  1, CIFAR-10 Batch 1:  Cost is 2.18386 ... accuracy: 0.179\n",
      "Epoch  1, CIFAR-10 Batch 2:  Cost is 2.01151 ... accuracy: 0.2596\n",
      "Epoch  1, CIFAR-10 Batch 3:  Cost is 1.95279 ... accuracy: 0.2778\n",
      "Epoch  1, CIFAR-10 Batch 4:  Cost is 1.92427 ... accuracy: 0.3006\n",
      "Epoch  1, CIFAR-10 Batch 5:  Cost is 1.78375 ... accuracy: 0.35\n",
      "Epoch  2, CIFAR-10 Batch 1:  Cost is 1.68714 ... accuracy: 0.3756\n",
      "Epoch  2, CIFAR-10 Batch 2:  Cost is 1.75341 ... accuracy: 0.3706\n",
      "Epoch  2, CIFAR-10 Batch 3:  Cost is 1.65275 ... accuracy: 0.3838\n",
      "Epoch  2, CIFAR-10 Batch 4:  Cost is 1.59522 ... accuracy: 0.416\n",
      "Epoch  2, CIFAR-10 Batch 5:  Cost is 1.56967 ... accuracy: 0.4266\n",
      "Epoch  3, CIFAR-10 Batch 1:  Cost is 1.57243 ... accuracy: 0.4258\n",
      "Epoch  3, CIFAR-10 Batch 2:  Cost is 1.47942 ... accuracy: 0.4534\n",
      "Epoch  3, CIFAR-10 Batch 3:  Cost is 1.45884 ... accuracy: 0.4594\n",
      "Epoch  3, CIFAR-10 Batch 4:  Cost is 1.42761 ... accuracy: 0.4744\n",
      "Epoch  3, CIFAR-10 Batch 5:  Cost is 1.47132 ... accuracy: 0.4656\n",
      "Epoch  4, CIFAR-10 Batch 1:  Cost is 1.46222 ... accuracy: 0.4782\n",
      "Epoch  4, CIFAR-10 Batch 2:  Cost is 1.36593 ... accuracy: 0.5018\n",
      "Epoch  4, CIFAR-10 Batch 3:  Cost is 1.34882 ... accuracy: 0.5056\n",
      "Epoch  4, CIFAR-10 Batch 4:  Cost is 1.31491 ... accuracy: 0.524\n",
      "Epoch  4, CIFAR-10 Batch 5:  Cost is 1.32908 ... accuracy: 0.5176\n",
      "Epoch  5, CIFAR-10 Batch 1:  Cost is 1.34646 ... accuracy: 0.516\n",
      "Epoch  5, CIFAR-10 Batch 2:  Cost is 1.29653 ... accuracy: 0.5346\n",
      "Epoch  5, CIFAR-10 Batch 3:  Cost is 1.29544 ... accuracy: 0.5308\n",
      "Epoch  5, CIFAR-10 Batch 4:  Cost is 1.25205 ... accuracy: 0.5446\n",
      "Epoch  5, CIFAR-10 Batch 5:  Cost is 1.25576 ... accuracy: 0.5466\n",
      "Epoch  6, CIFAR-10 Batch 1:  Cost is 1.23643 ... accuracy: 0.5528\n",
      "Epoch  6, CIFAR-10 Batch 2:  Cost is 1.21072 ... accuracy: 0.5668\n",
      "Epoch  6, CIFAR-10 Batch 3:  Cost is 1.19692 ... accuracy: 0.561\n",
      "Epoch  6, CIFAR-10 Batch 4:  Cost is 1.17437 ... accuracy: 0.5798\n",
      "Epoch  6, CIFAR-10 Batch 5:  Cost is 1.17886 ... accuracy: 0.5774\n",
      "Epoch  7, CIFAR-10 Batch 1:  Cost is 1.18091 ... accuracy: 0.5772\n",
      "Epoch  7, CIFAR-10 Batch 2:  Cost is 1.16218 ... accuracy: 0.5832\n",
      "Epoch  7, CIFAR-10 Batch 3:  Cost is 1.12037 ... accuracy: 0.5994\n",
      "Epoch  7, CIFAR-10 Batch 4:  Cost is 1.15096 ... accuracy: 0.591\n",
      "Epoch  7, CIFAR-10 Batch 5:  Cost is 1.09604 ... accuracy: 0.6112\n",
      "Epoch  8, CIFAR-10 Batch 1:  Cost is 1.11091 ... accuracy: 0.6026\n",
      "Epoch  8, CIFAR-10 Batch 2:  Cost is 1.1153 ... accuracy: 0.604\n",
      "Epoch  8, CIFAR-10 Batch 3:  Cost is 1.07576 ... accuracy: 0.6178\n",
      "Epoch  8, CIFAR-10 Batch 4:  Cost is 1.05701 ... accuracy: 0.6294\n",
      "Epoch  8, CIFAR-10 Batch 5:  Cost is 1.03839 ... accuracy: 0.6334\n",
      "Epoch  9, CIFAR-10 Batch 1:  Cost is 1.11664 ... accuracy: 0.605\n",
      "Epoch  9, CIFAR-10 Batch 2:  Cost is 1.05956 ... accuracy: 0.624\n",
      "Epoch  9, CIFAR-10 Batch 3:  Cost is 1.05076 ... accuracy: 0.6282\n",
      "Epoch  9, CIFAR-10 Batch 4:  Cost is 1.00235 ... accuracy: 0.6496\n",
      "Epoch  9, CIFAR-10 Batch 5:  Cost is 0.982778 ... accuracy: 0.658\n",
      "Epoch 10, CIFAR-10 Batch 1:  Cost is 1.05109 ... accuracy: 0.6324\n",
      "Epoch 10, CIFAR-10 Batch 2:  Cost is 1.02284 ... accuracy: 0.64\n",
      "Epoch 10, CIFAR-10 Batch 3:  Cost is 0.980489 ... accuracy: 0.6554\n",
      "Epoch 10, CIFAR-10 Batch 4:  Cost is 0.964196 ... accuracy: 0.665\n",
      "Epoch 10, CIFAR-10 Batch 5:  Cost is 0.942151 ... accuracy: 0.6714\n",
      "Epoch 11, CIFAR-10 Batch 1:  Cost is 1.02329 ... accuracy: 0.6412\n",
      "Epoch 11, CIFAR-10 Batch 2:  Cost is 1.02973 ... accuracy: 0.6316\n",
      "Epoch 11, CIFAR-10 Batch 3:  Cost is 0.957723 ... accuracy: 0.6612\n",
      "Epoch 11, CIFAR-10 Batch 4:  Cost is 0.967445 ... accuracy: 0.6608\n",
      "Epoch 11, CIFAR-10 Batch 5:  Cost is 0.923507 ... accuracy: 0.6784\n",
      "Epoch 12, CIFAR-10 Batch 1:  Cost is 1.01909 ... accuracy: 0.6494\n",
      "Epoch 12, CIFAR-10 Batch 2:  Cost is 0.991848 ... accuracy: 0.6468\n",
      "Epoch 12, CIFAR-10 Batch 3:  Cost is 0.952318 ... accuracy: 0.6706\n",
      "Epoch 12, CIFAR-10 Batch 4:  Cost is 0.913373 ... accuracy: 0.6824\n",
      "Epoch 12, CIFAR-10 Batch 5:  Cost is 0.917138 ... accuracy: 0.6784\n",
      "Epoch 13, CIFAR-10 Batch 1:  Cost is 0.960892 ... accuracy: 0.6694\n",
      "Epoch 13, CIFAR-10 Batch 2:  Cost is 0.937125 ... accuracy: 0.668\n",
      "Epoch 13, CIFAR-10 Batch 3:  Cost is 0.901047 ... accuracy: 0.6894\n",
      "Epoch 13, CIFAR-10 Batch 4:  Cost is 0.906113 ... accuracy: 0.6896\n",
      "Epoch 13, CIFAR-10 Batch 5:  Cost is 0.901627 ... accuracy: 0.6902\n",
      "Epoch 14, CIFAR-10 Batch 1:  Cost is 0.898516 ... accuracy: 0.6968\n",
      "Epoch 14, CIFAR-10 Batch 2:  Cost is 0.933531 ... accuracy: 0.67\n",
      "Epoch 14, CIFAR-10 Batch 3:  Cost is 0.882176 ... accuracy: 0.6936\n",
      "Epoch 14, CIFAR-10 Batch 4:  Cost is 0.928752 ... accuracy: 0.6848\n",
      "Epoch 14, CIFAR-10 Batch 5:  Cost is 0.887218 ... accuracy: 0.69\n",
      "Epoch 15, CIFAR-10 Batch 1:  Cost is 0.912385 ... accuracy: 0.6892\n",
      "Epoch 15, CIFAR-10 Batch 2:  Cost is 0.968163 ... accuracy: 0.6676\n",
      "Epoch 15, CIFAR-10 Batch 3:  Cost is 0.969588 ... accuracy: 0.6692\n",
      "Epoch 15, CIFAR-10 Batch 4:  Cost is 0.865714 ... accuracy: 0.7012\n",
      "Epoch 15, CIFAR-10 Batch 5:  Cost is 0.896931 ... accuracy: 0.6916\n",
      "Epoch 16, CIFAR-10 Batch 1:  Cost is 0.875524 ... accuracy: 0.703\n",
      "Epoch 16, CIFAR-10 Batch 2:  Cost is 0.877705 ... accuracy: 0.694\n",
      "Epoch 16, CIFAR-10 Batch 3:  Cost is 0.891444 ... accuracy: 0.6986\n",
      "Epoch 16, CIFAR-10 Batch 4:  Cost is 0.894365 ... accuracy: 0.6974\n",
      "Epoch 16, CIFAR-10 Batch 5:  Cost is 0.908759 ... accuracy: 0.6918\n",
      "Epoch 17, CIFAR-10 Batch 1:  Cost is 0.888251 ... accuracy: 0.699\n",
      "Epoch 17, CIFAR-10 Batch 2:  Cost is 0.928539 ... accuracy: 0.6874\n",
      "Epoch 17, CIFAR-10 Batch 3:  Cost is 0.850311 ... accuracy: 0.7108\n",
      "Epoch 17, CIFAR-10 Batch 4:  Cost is 0.925443 ... accuracy: 0.689\n",
      "Epoch 17, CIFAR-10 Batch 5:  Cost is 0.854787 ... accuracy: 0.7028\n",
      "Epoch 18, CIFAR-10 Batch 1:  Cost is 0.90458 ... accuracy: 0.7008\n",
      "Epoch 18, CIFAR-10 Batch 2:  Cost is 0.901691 ... accuracy: 0.6986\n",
      "Epoch 18, CIFAR-10 Batch 3:  Cost is 0.844371 ... accuracy: 0.7138\n",
      "Epoch 18, CIFAR-10 Batch 4:  Cost is 0.915653 ... accuracy: 0.6914\n",
      "Epoch 18, CIFAR-10 Batch 5:  Cost is 0.892025 ... accuracy: 0.6908\n",
      "Epoch 19, CIFAR-10 Batch 1:  Cost is 0.896832 ... accuracy: 0.7056\n",
      "Epoch 19, CIFAR-10 Batch 2:  Cost is 0.875862 ... accuracy: 0.6992\n",
      "Epoch 19, CIFAR-10 Batch 3:  Cost is 0.890793 ... accuracy: 0.7038\n",
      "Epoch 19, CIFAR-10 Batch 4:  Cost is 0.859754 ... accuracy: 0.7104\n",
      "Epoch 19, CIFAR-10 Batch 5:  Cost is 0.91806 ... accuracy: 0.6902\n",
      "Epoch 20, CIFAR-10 Batch 1:  Cost is 0.907435 ... accuracy: 0.7078\n",
      "Epoch 20, CIFAR-10 Batch 2:  Cost is 0.9375 ... accuracy: 0.691\n",
      "Epoch 20, CIFAR-10 Batch 3:  Cost is 0.896543 ... accuracy: 0.703\n",
      "Epoch 20, CIFAR-10 Batch 4:  Cost is 0.867429 ... accuracy: 0.72\n",
      "Epoch 20, CIFAR-10 Batch 5:  Cost is 0.864529 ... accuracy: 0.7046\n",
      "Epoch 21, CIFAR-10 Batch 1:  Cost is 0.931091 ... accuracy: 0.7046\n",
      "Epoch 21, CIFAR-10 Batch 2:  Cost is 0.896196 ... accuracy: 0.7044\n",
      "Epoch 21, CIFAR-10 Batch 3:  Cost is 0.889218 ... accuracy: 0.7074\n",
      "Epoch 21, CIFAR-10 Batch 4:  Cost is 0.909773 ... accuracy: 0.7098\n",
      "Epoch 21, CIFAR-10 Batch 5:  Cost is 0.938535 ... accuracy: 0.6906\n",
      "Epoch 22, CIFAR-10 Batch 1:  Cost is 0.935568 ... accuracy: 0.7002\n",
      "Epoch 22, CIFAR-10 Batch 2:  Cost is 0.941665 ... accuracy: 0.6896\n",
      "Epoch 22, CIFAR-10 Batch 3:  Cost is 0.910821 ... accuracy: 0.7094\n",
      "Epoch 22, CIFAR-10 Batch 4:  Cost is 0.929947 ... accuracy: 0.7036\n",
      "Epoch 22, CIFAR-10 Batch 5:  Cost is 0.934713 ... accuracy: 0.701\n",
      "Epoch 23, CIFAR-10 Batch 1:  Cost is 1.03377 ... accuracy: 0.6842\n",
      "Epoch 23, CIFAR-10 Batch 2:  Cost is 0.971782 ... accuracy: 0.6888\n",
      "Epoch 23, CIFAR-10 Batch 3:  Cost is 0.946929 ... accuracy: 0.7022\n",
      "Epoch 23, CIFAR-10 Batch 4:  Cost is 0.938499 ... accuracy: 0.711\n",
      "Epoch 23, CIFAR-10 Batch 5:  Cost is 0.984882 ... accuracy: 0.6888\n",
      "Epoch 24, CIFAR-10 Batch 1:  Cost is 1.02944 ... accuracy: 0.6902\n",
      "Epoch 24, CIFAR-10 Batch 2:  Cost is 1.03879 ... accuracy: 0.6764\n",
      "Epoch 24, CIFAR-10 Batch 3:  Cost is 0.975927 ... accuracy: 0.695\n",
      "Epoch 24, CIFAR-10 Batch 4:  Cost is 0.970757 ... accuracy: 0.703\n",
      "Epoch 24, CIFAR-10 Batch 5:  Cost is 1.07043 ... accuracy: 0.6682\n",
      "Epoch 25, CIFAR-10 Batch 1:  Cost is 0.971055 ... accuracy: 0.6926\n",
      "Epoch 25, CIFAR-10 Batch 2:  Cost is 0.967228 ... accuracy: 0.698\n",
      "Epoch 25, CIFAR-10 Batch 3:  Cost is 0.951524 ... accuracy: 0.7064\n",
      "Epoch 25, CIFAR-10 Batch 4:  Cost is 0.972281 ... accuracy: 0.7048\n"
     ]
    },
    {
     "name": "stdout",
     "output_type": "stream",
     "text": [
      "Epoch 25, CIFAR-10 Batch 5:  Cost is 1.07538 ... accuracy: 0.672\n",
      "Epoch 26, CIFAR-10 Batch 1:  Cost is 0.999606 ... accuracy: 0.6978\n",
      "Epoch 26, CIFAR-10 Batch 2:  Cost is 0.979703 ... accuracy: 0.688\n",
      "Epoch 26, CIFAR-10 Batch 3:  Cost is 0.963704 ... accuracy: 0.7082\n",
      "Epoch 26, CIFAR-10 Batch 4:  Cost is 0.949581 ... accuracy: 0.714\n",
      "Epoch 26, CIFAR-10 Batch 5:  Cost is 1.00528 ... accuracy: 0.7004\n",
      "Epoch 27, CIFAR-10 Batch 1:  Cost is 0.988402 ... accuracy: 0.705\n",
      "Epoch 27, CIFAR-10 Batch 2:  Cost is 1.01234 ... accuracy: 0.6916\n",
      "Epoch 27, CIFAR-10 Batch 3:  Cost is 0.994933 ... accuracy: 0.7068\n",
      "Epoch 27, CIFAR-10 Batch 4:  Cost is 1.02445 ... accuracy: 0.7068\n",
      "Epoch 27, CIFAR-10 Batch 5:  Cost is 1.05688 ... accuracy: 0.7004\n",
      "Epoch 28, CIFAR-10 Batch 1:  Cost is 1.11139 ... accuracy: 0.689\n",
      "Epoch 28, CIFAR-10 Batch 2:  Cost is 1.08678 ... accuracy: 0.6946\n",
      "Epoch 28, CIFAR-10 Batch 3:  Cost is 1.05402 ... accuracy: 0.6954\n",
      "Epoch 28, CIFAR-10 Batch 4:  Cost is 1.07295 ... accuracy: 0.6996\n",
      "Epoch 28, CIFAR-10 Batch 5:  Cost is 1.04343 ... accuracy: 0.6942\n",
      "Epoch 29, CIFAR-10 Batch 1:  Cost is 1.08983 ... accuracy: 0.6974\n",
      "Epoch 29, CIFAR-10 Batch 2:  Cost is 1.00045 ... accuracy: 0.7072\n",
      "Epoch 29, CIFAR-10 Batch 3:  Cost is 1.00458 ... accuracy: 0.711\n",
      "Epoch 29, CIFAR-10 Batch 4:  Cost is 1.15808 ... accuracy: 0.6868\n",
      "Epoch 29, CIFAR-10 Batch 5:  Cost is 1.04832 ... accuracy: 0.6928\n",
      "Epoch 30, CIFAR-10 Batch 1:  Cost is 1.0838 ... accuracy: 0.7054\n",
      "Epoch 30, CIFAR-10 Batch 2:  Cost is 1.01158 ... accuracy: 0.702\n",
      "Epoch 30, CIFAR-10 Batch 3:  Cost is 1.03795 ... accuracy: 0.712\n",
      "Epoch 30, CIFAR-10 Batch 4:  Cost is 1.21511 ... accuracy: 0.6842\n",
      "Epoch 30, CIFAR-10 Batch 5:  Cost is 1.14462 ... accuracy: 0.6734\n",
      "Epoch 31, CIFAR-10 Batch 1:  Cost is 1.12571 ... accuracy: 0.7048\n",
      "Epoch 31, CIFAR-10 Batch 2:  Cost is 1.06068 ... accuracy: 0.7014\n",
      "Epoch 31, CIFAR-10 Batch 3:  Cost is 1.11836 ... accuracy: 0.696\n",
      "Epoch 31, CIFAR-10 Batch 4:  Cost is 1.24384 ... accuracy: 0.68\n",
      "Epoch 31, CIFAR-10 Batch 5:  Cost is 1.14286 ... accuracy: 0.6876\n",
      "Epoch 32, CIFAR-10 Batch 1:  Cost is 1.23418 ... accuracy: 0.6858\n",
      "Epoch 32, CIFAR-10 Batch 2:  Cost is 1.1333 ... accuracy: 0.6836\n",
      "Epoch 32, CIFAR-10 Batch 3:  Cost is 1.10365 ... accuracy: 0.7104\n",
      "Epoch 32, CIFAR-10 Batch 4:  Cost is 1.26881 ... accuracy: 0.6868\n",
      "Epoch 32, CIFAR-10 Batch 5:  Cost is 1.12509 ... accuracy: 0.6876\n",
      "Epoch 33, CIFAR-10 Batch 1:  Cost is 1.09107 ... accuracy: 0.7144\n",
      "Epoch 33, CIFAR-10 Batch 2:  Cost is 1.13632 ... accuracy: 0.6962\n",
      "Epoch 33, CIFAR-10 Batch 3:  Cost is 1.0704 ... accuracy: 0.7188\n",
      "Epoch 33, CIFAR-10 Batch 4:  Cost is 1.28096 ... accuracy: 0.6946\n",
      "Epoch 33, CIFAR-10 Batch 5:  Cost is 1.2323 ... accuracy: 0.6836\n",
      "Epoch 34, CIFAR-10 Batch 1:  Cost is 1.15945 ... accuracy: 0.7064\n",
      "Epoch 34, CIFAR-10 Batch 2:  Cost is 1.16042 ... accuracy: 0.707\n",
      "Epoch 34, CIFAR-10 Batch 3:  Cost is 1.13081 ... accuracy: 0.7164\n",
      "Epoch 34, CIFAR-10 Batch 4:  Cost is 1.31679 ... accuracy: 0.6942\n",
      "Epoch 34, CIFAR-10 Batch 5:  Cost is 1.51774 ... accuracy: 0.6514\n",
      "Epoch 35, CIFAR-10 Batch 1:  Cost is 1.20009 ... accuracy: 0.698\n",
      "Epoch 35, CIFAR-10 Batch 2:  Cost is 1.18247 ... accuracy: 0.705\n",
      "Epoch 35, CIFAR-10 Batch 3:  Cost is 1.19599 ... accuracy: 0.71\n",
      "Epoch 35, CIFAR-10 Batch 4:  Cost is 1.33149 ... accuracy: 0.69\n",
      "Epoch 35, CIFAR-10 Batch 5:  Cost is 1.34255 ... accuracy: 0.6906\n",
      "Epoch 36, CIFAR-10 Batch 1:  Cost is 1.2134 ... accuracy: 0.6966\n",
      "Epoch 36, CIFAR-10 Batch 2:  Cost is 1.28125 ... accuracy: 0.6952\n",
      "Epoch 36, CIFAR-10 Batch 3:  Cost is 1.22374 ... accuracy: 0.7118\n",
      "Epoch 36, CIFAR-10 Batch 4:  Cost is 1.42284 ... accuracy: 0.6852\n",
      "Epoch 36, CIFAR-10 Batch 5:  Cost is 1.30083 ... accuracy: 0.6962\n",
      "Epoch 37, CIFAR-10 Batch 1:  Cost is 1.33741 ... accuracy: 0.6854\n",
      "Epoch 37, CIFAR-10 Batch 2:  Cost is 1.28101 ... accuracy: 0.7058\n",
      "Epoch 37, CIFAR-10 Batch 3:  Cost is 1.27893 ... accuracy: 0.7118\n",
      "Epoch 37, CIFAR-10 Batch 4:  Cost is 1.36425 ... accuracy: 0.6922\n",
      "Epoch 37, CIFAR-10 Batch 5:  Cost is 1.31546 ... accuracy: 0.6996\n",
      "Epoch 38, CIFAR-10 Batch 1:  Cost is 1.28748 ... accuracy: 0.6988\n",
      "Epoch 38, CIFAR-10 Batch 2:  Cost is 1.3945 ... accuracy: 0.6956\n",
      "Epoch 38, CIFAR-10 Batch 3:  Cost is 1.30068 ... accuracy: 0.7062\n",
      "Epoch 38, CIFAR-10 Batch 4:  Cost is 1.32047 ... accuracy: 0.7138\n",
      "Epoch 38, CIFAR-10 Batch 5:  Cost is 1.48936 ... accuracy: 0.6816\n",
      "Epoch 39, CIFAR-10 Batch 1:  Cost is 1.38174 ... accuracy: 0.7048\n",
      "Epoch 39, CIFAR-10 Batch 2:  Cost is 1.40372 ... accuracy: 0.688\n",
      "Epoch 39, CIFAR-10 Batch 3:  Cost is 1.38867 ... accuracy: 0.7006\n",
      "Epoch 39, CIFAR-10 Batch 4:  Cost is 1.44334 ... accuracy: 0.698\n",
      "Epoch 39, CIFAR-10 Batch 5:  Cost is 1.42969 ... accuracy: 0.692\n",
      "Epoch 40, CIFAR-10 Batch 1:  Cost is 1.35858 ... accuracy: 0.705\n",
      "Epoch 40, CIFAR-10 Batch 2:  Cost is 1.49275 ... accuracy: 0.6848\n",
      "Epoch 40, CIFAR-10 Batch 3:  Cost is 1.36619 ... accuracy: 0.7022\n",
      "Epoch 40, CIFAR-10 Batch 4:  Cost is 1.57517 ... accuracy: 0.686\n",
      "Epoch 40, CIFAR-10 Batch 5:  Cost is 1.41857 ... accuracy: 0.7054\n",
      "Epoch 41, CIFAR-10 Batch 1:  Cost is 1.35977 ... accuracy: 0.7092\n",
      "Epoch 41, CIFAR-10 Batch 2:  Cost is 1.53968 ... accuracy: 0.6934\n",
      "Epoch 41, CIFAR-10 Batch 3:  Cost is 1.40784 ... accuracy: 0.7004\n",
      "Epoch 41, CIFAR-10 Batch 4:  Cost is 1.64157 ... accuracy: 0.6832\n",
      "Epoch 41, CIFAR-10 Batch 5:  Cost is 1.50278 ... accuracy: 0.6984\n",
      "Epoch 42, CIFAR-10 Batch 1:  Cost is 1.47934 ... accuracy: 0.699\n",
      "Epoch 42, CIFAR-10 Batch 2:  Cost is 1.51048 ... accuracy: 0.6998\n",
      "Epoch 42, CIFAR-10 Batch 3:  Cost is 1.38554 ... accuracy: 0.6894\n",
      "Epoch 42, CIFAR-10 Batch 4:  Cost is 1.52069 ... accuracy: 0.6888\n",
      "Epoch 42, CIFAR-10 Batch 5:  Cost is 1.39584 ... accuracy: 0.7082\n",
      "Epoch 43, CIFAR-10 Batch 1:  Cost is 1.44446 ... accuracy: 0.703\n",
      "Epoch 43, CIFAR-10 Batch 2:  Cost is 1.57845 ... accuracy: 0.6814\n",
      "Epoch 43, CIFAR-10 Batch 3:  Cost is 1.60474 ... accuracy: 0.6728\n",
      "Epoch 43, CIFAR-10 Batch 4:  Cost is 1.38894 ... accuracy: 0.6974\n",
      "Epoch 43, CIFAR-10 Batch 5:  Cost is 1.48304 ... accuracy: 0.7046\n",
      "Epoch 44, CIFAR-10 Batch 1:  Cost is 1.54848 ... accuracy: 0.6984\n",
      "Epoch 44, CIFAR-10 Batch 2:  Cost is 1.64133 ... accuracy: 0.6846\n",
      "Epoch 44, CIFAR-10 Batch 3:  Cost is 1.51983 ... accuracy: 0.698\n",
      "Epoch 44, CIFAR-10 Batch 4:  Cost is 1.51194 ... accuracy: 0.699\n",
      "Epoch 44, CIFAR-10 Batch 5:  Cost is 1.61276 ... accuracy: 0.704\n",
      "Epoch 45, CIFAR-10 Batch 1:  Cost is 1.60574 ... accuracy: 0.7014\n",
      "Epoch 45, CIFAR-10 Batch 2:  Cost is 1.61552 ... accuracy: 0.6954\n",
      "Epoch 45, CIFAR-10 Batch 3:  Cost is 1.56616 ... accuracy: 0.6968\n",
      "Epoch 45, CIFAR-10 Batch 4:  Cost is 1.61387 ... accuracy: 0.697\n",
      "Epoch 45, CIFAR-10 Batch 5:  Cost is 1.686 ... accuracy: 0.7058\n",
      "Epoch 46, CIFAR-10 Batch 1:  Cost is 1.71832 ... accuracy: 0.6956\n",
      "Epoch 46, CIFAR-10 Batch 2:  Cost is 1.76637 ... accuracy: 0.6834\n",
      "Epoch 46, CIFAR-10 Batch 3:  Cost is 1.83221 ... accuracy: 0.6798\n",
      "Epoch 46, CIFAR-10 Batch 4:  Cost is 1.64095 ... accuracy: 0.6976\n",
      "Epoch 46, CIFAR-10 Batch 5:  Cost is 1.6132 ... accuracy: 0.7096\n",
      "Epoch 47, CIFAR-10 Batch 1:  Cost is 1.71524 ... accuracy: 0.706\n",
      "Epoch 47, CIFAR-10 Batch 2:  Cost is 1.72704 ... accuracy: 0.6828\n",
      "Epoch 47, CIFAR-10 Batch 3:  Cost is 1.69274 ... accuracy: 0.6914\n",
      "Epoch 47, CIFAR-10 Batch 4:  Cost is 1.63198 ... accuracy: 0.6944\n",
      "Epoch 47, CIFAR-10 Batch 5:  Cost is 1.70567 ... accuracy: 0.6976\n",
      "Epoch 48, CIFAR-10 Batch 1:  Cost is 1.68935 ... accuracy: 0.7048\n",
      "Epoch 48, CIFAR-10 Batch 2:  Cost is 1.67509 ... accuracy: 0.7016\n",
      "Epoch 48, CIFAR-10 Batch 3:  Cost is 1.7691 ... accuracy: 0.6886\n",
      "Epoch 48, CIFAR-10 Batch 4:  Cost is 1.74251 ... accuracy: 0.685\n",
      "Epoch 48, CIFAR-10 Batch 5:  Cost is 1.62962 ... accuracy: 0.7052\n",
      "Epoch 49, CIFAR-10 Batch 1:  Cost is 1.64661 ... accuracy: 0.7054\n",
      "Epoch 49, CIFAR-10 Batch 2:  Cost is 1.86175 ... accuracy: 0.6844\n",
      "Epoch 49, CIFAR-10 Batch 3:  Cost is 1.77936 ... accuracy: 0.6842\n",
      "Epoch 49, CIFAR-10 Batch 4:  Cost is 1.76329 ... accuracy: 0.694\n",
      "Epoch 49, CIFAR-10 Batch 5:  Cost is 1.62677 ... accuracy: 0.703\n",
      "Epoch 50, CIFAR-10 Batch 1:  Cost is 1.75738 ... accuracy: 0.6976\n",
      "Epoch 50, CIFAR-10 Batch 2:  Cost is 1.81187 ... accuracy: 0.6994\n",
      "Epoch 50, CIFAR-10 Batch 3:  Cost is 1.84711 ... accuracy: 0.689\n",
      "Epoch 50, CIFAR-10 Batch 4:  Cost is 1.7665 ... accuracy: 0.688\n"
     ]
    },
    {
     "name": "stdout",
     "output_type": "stream",
     "text": [
      "Epoch 50, CIFAR-10 Batch 5:  Cost is 1.74236 ... accuracy: 0.6926\n"
     ]
    }
   ],
   "source": [
    "\"\"\"\n",
    "DON'T MODIFY ANYTHING IN THIS CELL\n",
    "\"\"\"\n",
    "save_model_path = './image_classification'\n",
    "\n",
    "print('Training...')\n",
    "with tf.Session() as sess:\n",
    "    # Initializing the variables\n",
    "    sess.run(tf.global_variables_initializer())\n",
    "    \n",
    "    # Training cycle\n",
    "    for epoch in range(epochs):\n",
    "        # Loop over all batches\n",
    "        n_batches = 5\n",
    "        for batch_i in range(1, n_batches + 1):\n",
    "            for batch_features, batch_labels in helper.load_preprocess_training_batch(batch_i, batch_size):\n",
    "                train_neural_network(sess, optimizer, keep_probability, batch_features, batch_labels)\n",
    "            print('Epoch {:>2}, CIFAR-10 Batch {}:  '.format(epoch + 1, batch_i), end='')\n",
    "            print_stats(sess, batch_features, batch_labels, cost, accuracy)\n",
    "            \n",
    "    # Save Model\n",
    "    saver = tf.train.Saver()\n",
    "    save_path = saver.save(sess, save_model_path)"
   ]
  },
  {
   "cell_type": "markdown",
   "metadata": {},
   "source": [
    "# Checkpoint\n",
    "The model has been saved to disk.\n",
    "## Test Model\n",
    "Test your model against the test dataset.  This will be your final accuracy. You should have an accuracy greater than 50%. If you don't, keep tweaking the model architecture and parameters."
   ]
  },
  {
   "cell_type": "code",
   "execution_count": 47,
   "metadata": {},
   "outputs": [
    {
     "name": "stdout",
     "output_type": "stream",
     "text": [
      "INFO:tensorflow:Restoring parameters from ./image_classification\n",
      "Testing Accuracy: 0.6866096049547196\n",
      "\n"
     ]
    },
    {
     "data": {
      "image/png": "[encoded data removed]",
      "text/plain": [
       "<matplotlib.figure.Figure at 0x7f5e64dba710>"
      ]
     },
     "metadata": {
      "image/png": {
       "height": 319,
       "width": 355
      }
     },
     "output_type": "display_data"
    }
   ],
   "source": [
    "\"\"\"\n",
    "DON'T MODIFY ANYTHING IN THIS CELL\n",
    "\"\"\"\n",
    "%matplotlib inline\n",
    "%config InlineBackend.figure_format = 'retina'\n",
    "\n",
    "import tensorflow as tf\n",
    "import pickle\n",
    "import helper\n",
    "import random\n",
    "\n",
    "# Set batch size if not already set\n",
    "try:\n",
    "    if batch_size:\n",
    "        pass\n",
    "except NameError:\n",
    "    batch_size = 64\n",
    "\n",
    "save_model_path = './image_classification'\n",
    "n_samples = 4\n",
    "top_n_predictions = 3\n",
    "\n",
    "def test_model():\n",
    "    \"\"\"\n",
    "    Test the saved model against the test dataset\n",
    "    \"\"\"\n",
    "\n",
    "    test_features, test_labels = pickle.load(open('preprocess_test.p', mode='rb'))\n",
    "    loaded_graph = tf.Graph()\n",
    "\n",
    "    with tf.Session(graph=loaded_graph) as sess:\n",
    "        # Load model\n",
    "        loader = tf.train.import_meta_graph(save_model_path + '.meta')\n",
    "        loader.restore(sess, save_model_path)\n",
    "\n",
    "        # Get Tensors from loaded model\n",
    "        loaded_x = loaded_graph.get_tensor_by_name('x:0')\n",
    "        loaded_y = loaded_graph.get_tensor_by_name('y:0')\n",
    "        loaded_keep_prob = loaded_graph.get_tensor_by_name('keep_prob:0')\n",
    "        loaded_logits = loaded_graph.get_tensor_by_name('logits:0')\n",
    "        loaded_acc = loaded_graph.get_tensor_by_name('accuracy:0')\n",
    "        \n",
    "        # Get accuracy in batches for memory limitations\n",
    "        test_batch_acc_total = 0\n",
    "        test_batch_count = 0\n",
    "        \n",
    "        for test_feature_batch, test_label_batch in helper.batch_features_labels(test_features, test_labels, batch_size):\n",
    "            test_batch_acc_total += sess.run(\n",
    "                loaded_acc,\n",
    "                feed_dict={loaded_x: test_feature_batch, loaded_y: test_label_batch, loaded_keep_prob: 1.0})\n",
    "            test_batch_count += 1\n",
    "\n",
    "        print('Testing Accuracy: {}\\n'.format(test_batch_acc_total/test_batch_count))\n",
    "\n",
    "        # Print Random Samples\n",
    "        random_test_features, random_test_labels = tuple(zip(*random.sample(list(zip(test_features, test_labels)), n_samples)))\n",
    "        random_test_predictions = sess.run(\n",
    "            tf.nn.top_k(tf.nn.softmax(loaded_logits), top_n_predictions),\n",
    "            feed_dict={loaded_x: random_test_features, loaded_y: random_test_labels, loaded_keep_prob: 1.0})\n",
    "        helper.display_image_predictions(random_test_features, random_test_labels, random_test_predictions)\n",
    "\n",
    "\n",
    "test_model()"
   ]
  },
  {
   "cell_type": "markdown",
   "metadata": {},
   "source": [
    "## Why 50-80% Accuracy?\n",
    "You might be wondering why you can't get an accuracy any higher. First things first, 50% isn't bad for a simple CNN.  Pure guessing would get you 10% accuracy. However, you might notice people are getting scores [well above 80%](http://rodrigob.github.io/are_we_there_yet/build/classification_datasets_results.html#43494641522d3130).  That's because we haven't taught you all there is to know about neural networks. We still need to cover a few more techniques.\n",
    "## Submitting This Project\n",
    "When submitting this project, make sure to run all the cells before saving the notebook.  Save the notebook file as \"dlnd_image_classification.ipynb\" and save it as a HTML file under \"File\" -> \"Download as\".  Include the \"helper.py\" and \"problem_unittests.py\" files in your submission."
   ]
  },
  {
   "cell_type": "code",
   "execution_count": null,
   "metadata": {
    "collapsed": true
   },
   "outputs": [],
   "source": []
  }
 ],
 "metadata": {
  "kernelspec": {
   "display_name": "Python 3",
   "language": "python",
   "name": "python3"
  },
  "language_info": {
   "codemirror_mode": {
    "name": "ipython",
    "version": 3
   },
   "file_extension": ".py",
   "mimetype": "text/x-python",
   "name": "python",
   "nbconvert_exporter": "python",
   "pygments_lexer": "ipython3",
   "version": "3.5.3"
  }
 },
 "nbformat": 4,
 "nbformat_minor": 1
}
